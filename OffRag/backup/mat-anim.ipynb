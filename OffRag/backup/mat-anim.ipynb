{
 "cells": [
  {
   "cell_type": "code",
   "execution_count": null,
   "id": "ddd1a5d5",
   "metadata": {},
   "outputs": [
    {
     "name": "stderr",
     "output_type": "stream",
     "text": [
      "C:\\Users\\9G\\AppData\\Local\\Temp\\ipykernel_15824\\4080887162.py:21: RuntimeWarning:\n",
      "\n",
      "invalid value encountered in power\n",
      "\n"
     ]
    }
   ],
   "source": [
    "import matplotlib.pyplot as plt\n",
    "import numpy as np\n",
    "from matplotlib.animation import FuncAnimation, PillowWriter\n",
    "import matplotlib\n",
    "matplotlib.use('Agg')  # Use non-interactive backend\n",
    "\n",
    "# Set up the figure and axis\n",
    "fig, ax = plt.subplots(figsize=(6, 4))  # Smaller figure size\n",
    "x = np.linspace(-2, 2, 50)  # Fewer points for faster computation\n",
    "line, = ax.plot(x, np.zeros_like(x), 'b-', label='Polynomial')\n",
    "ax.set_xlim(-2, 2)\n",
    "ax.set_ylim(-2, 2)\n",
    "ax.set_title('Dynamic Polynomial Graph')\n",
    "ax.set_xlabel('x')\n",
    "ax.set_ylabel('y')\n",
    "ax.grid(True)\n",
    "ax.legend()\n",
    "\n",
    "# Function to compute polynomial y = x^n\n",
    "def polynomial(x, n):\n",
    "    return x ** n\n",
    "\n",
    "# Animation update function\n",
    "def update(frame): \n",
    "    n = 1 + frame / 10  # Degree varies from 1 to 5 over 40 frames\n",
    "    y = polynomial(x, n)\n",
    "    line.set_ydata(y)\n",
    "    ax.set_title(f'y = x^{n:.2f}')\n",
    "    return line,\n",
    "\n",
    "# Create animation with fewer frames\n",
    "ani = FuncAnimation(fig, update, frames=np.arange(0, 40), interval=50, blit=True)\n",
    "\n",
    "# Save animation as GIF\n",
    "ani.save('dynamic_polynomial.gif', writer=PillowWriter(fps=20))\n",
    "\n",
    "# Save a static frame for reference\n",
    "plt.savefig('dynamic_polynomial.png')"
   ]
  }
 ],
 "metadata": {
  "kernelspec": {
   "display_name": "Python 3",
   "language": "python",
   "name": "python3"
  },
  "language_info": {
   "codemirror_mode": {
    "name": "ipython",
    "version": 3
   },
   "file_extension": ".py",
   "mimetype": "text/x-python",
   "name": "python",
   "nbconvert_exporter": "python",
   "pygments_lexer": "ipython3",
   "version": "3.12.4"
  }
 },
 "nbformat": 4,
 "nbformat_minor": 5
}
